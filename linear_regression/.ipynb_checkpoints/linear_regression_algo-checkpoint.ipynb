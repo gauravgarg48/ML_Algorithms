{
 "cells": [
  {
   "cell_type": "markdown",
   "metadata": {},
   "source": [
    "## Implementation of multivariate Linear Regression using Batch Gradient Descent"
   ]
  },
  {
   "cell_type": "code",
   "execution_count": null,
   "metadata": {},
   "outputs": [],
   "source": [
    "import numpy as np\n",
    "import pandas as pd\n",
    "import matplotlib.pyplot as plt"
   ]
  },
  {
   "cell_type": "code",
   "execution_count": null,
   "metadata": {},
   "outputs": [],
   "source": [
    "train = pd.read_csv('Train.csv').values\n",
    "xt = pd.read_csv('Test.csv').values\n",
    "X = train[:, :-1]\n",
    "Y = train[:, -1:]\n",
    "\n",
    "u = X.mean(axis = 0)\n",
    "s = X.std(axis = 0)\n",
    "X = (X-u)/s\n",
    "xt = (xt-u)/s"
   ]
  },
  {
   "cell_type": "code",
   "execution_count": null,
   "metadata": {},
   "outputs": [],
   "source": [
    "X = np.hstack((np.ones((X.shape[0], 1)), X))\n",
    "xt = np.hstack((np.ones((xt.shape[0], 1)), xt))"
   ]
  },
  {
   "cell_type": "code",
   "execution_count": null,
   "metadata": {},
   "outputs": [],
   "source": [
    "def hypothesis(X, theta):\n",
    "    (m, n) = X.shape\n",
    "    arr = np.zeros(m)\n",
    "    \n",
    "    for i in range(m):\n",
    "        for j in range(n):\n",
    "            arr[i] += X[i, j]*theta[j]\n",
    "    return arr\n",
    "\n",
    "def gradient(X, Y, theta):\n",
    "    (m, n) = X.shape\n",
    "    H = hypothesis(X, theta)\n",
    "    grad = np.zeros(n)\n",
    "    \n",
    "    for j in range(n):\n",
    "        for i in range(m):\n",
    "            grad[j] += (H[i]-Y[i]) * X[i, j]\n",
    "        grad[j] /= m\n",
    "    \n",
    "    return grad\n",
    "\n",
    "def loss(X, Y, theta):\n",
    "    H = hypothesis(X, theta)\n",
    "    m = X.shape[0]\n",
    "    error = 0\n",
    "    for i in range(m):\n",
    "        error += (H[i]-Y[i])**2\n",
    "    return error/m\n",
    "\n",
    "def gradientDescent(X, Y, max_itr=100, lr=0.1):\n",
    "    (m, n) = X.shape\n",
    "    error_list = []\n",
    "    theta = np.zeros([n, 1])\n",
    "    for i in range(max_itr):\n",
    "        grad = gradient(X, Y, theta)\n",
    "        for j in range(n):\n",
    "            theta[j] = theta[j] - lr*grad[j]\n",
    "        error_list.append(loss(X, Y, theta))\n",
    "        \n",
    "    return theta, error_list"
   ]
  },
  {
   "cell_type": "code",
   "execution_count": null,
   "metadata": {},
   "outputs": [],
   "source": [
    "theta, error_list = gradientDescent(X, Y)\n",
    "plt.plot(error_list)\n",
    "plt.show()"
   ]
  },
  {
   "cell_type": "code",
   "execution_count": null,
   "metadata": {},
   "outputs": [],
   "source": [
    "yt = hypothesis(xt, theta)\n",
    "df = pd.DataFrame(yt, columns = ['target'])\n",
    "df.to_csv('pred.csv', index_label='Id')\n",
    "# print(theta.shape, yt.shape)"
   ]
  },
  {
   "cell_type": "code",
   "execution_count": null,
   "metadata": {},
   "outputs": [],
   "source": []
  }
 ],
 "metadata": {
  "kernelspec": {
   "display_name": "Python 3",
   "language": "python",
   "name": "python3"
  },
  "language_info": {
   "codemirror_mode": {
    "name": "ipython",
    "version": 3
   },
   "file_extension": ".py",
   "mimetype": "text/x-python",
   "name": "python",
   "nbconvert_exporter": "python",
   "pygments_lexer": "ipython3",
   "version": "3.7.6"
  }
 },
 "nbformat": 4,
 "nbformat_minor": 4
}
