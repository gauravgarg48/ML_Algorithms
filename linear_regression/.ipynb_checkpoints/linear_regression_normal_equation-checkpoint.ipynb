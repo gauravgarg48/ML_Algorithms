{
 "cells": [
  {
   "cell_type": "markdown",
   "metadata": {},
   "source": [
    "## Multivariate Linear Regression using Normal Equation Method"
   ]
  },
  {
   "cell_type": "code",
   "execution_count": 1,
   "metadata": {},
   "outputs": [],
   "source": [
    "import numpy as np\n",
    "import pandas as pd\n",
    "import matplotlib.pyplot as plt"
   ]
  },
  {
   "cell_type": "code",
   "execution_count": 2,
   "metadata": {},
   "outputs": [],
   "source": [
    "train = pd.read_csv('train.csv').values\n",
    "xt = pd.read_csv('test.csv').values\n",
    "X = train[:, :-1]\n",
    "Y = train[:, -1:]\n",
    "\n",
    "X = np.hstack((np.ones((X.shape[0], 1)), X))\n",
    "xt = np.hstack((np.ones((xt.shape[0], 1)), xt))"
   ]
  },
  {
   "cell_type": "code",
   "execution_count": 3,
   "metadata": {},
   "outputs": [],
   "source": [
    "def hypothesis(X, theta):\n",
    "    return np.dot(X, theta)\n",
    "\n",
    "def normal_eq_method(X, Y):\n",
    "    theta = np.zeros((X.shape[1], 1))\n",
    "    p1 = np.linalg.pinv(np.dot(X.T, X))\n",
    "    p2 = np.dot(X.T, Y)\n",
    "    return np.dot(p1, p2)"
   ]
  },
  {
   "cell_type": "code",
   "execution_count": 4,
   "metadata": {},
   "outputs": [
    {
     "name": "stdout",
     "output_type": "stream",
     "text": [
      "[[ 4.99096674]\n",
      " [29.68187118]\n",
      " [92.66247759]\n",
      " [ 8.28062089]\n",
      " [44.76773522]\n",
      " [ 2.51916121]]\n"
     ]
    }
   ],
   "source": [
    "theta = normal_eq_method(X, Y)\n",
    "print(theta)"
   ]
  },
  {
   "cell_type": "code",
   "execution_count": 5,
   "metadata": {},
   "outputs": [],
   "source": [
    "yt = hypothesis(xt, theta)\n",
    "df = pd.DataFrame(yt, columns = ['target'])\n",
    "df.to_csv('pred.csv', index_label='Id')"
   ]
  },
  {
   "cell_type": "code",
   "execution_count": null,
   "metadata": {},
   "outputs": [],
   "source": []
  },
  {
   "cell_type": "code",
   "execution_count": null,
   "metadata": {},
   "outputs": [],
   "source": []
  }
 ],
 "metadata": {
  "kernelspec": {
   "display_name": "Python 3",
   "language": "python",
   "name": "python3"
  },
  "language_info": {
   "codemirror_mode": {
    "name": "ipython",
    "version": 3
   },
   "file_extension": ".py",
   "mimetype": "text/x-python",
   "name": "python",
   "nbconvert_exporter": "python",
   "pygments_lexer": "ipython3",
   "version": "3.7.6"
  }
 },
 "nbformat": 4,
 "nbformat_minor": 4
}
