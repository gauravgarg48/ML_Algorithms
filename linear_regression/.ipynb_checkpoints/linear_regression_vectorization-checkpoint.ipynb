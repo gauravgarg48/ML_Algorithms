{
 "cells": [
  {
   "cell_type": "markdown",
   "metadata": {},
   "source": [
    "## Implementation of multivariate Linear Regression with batch gradient descent using Vectorization"
   ]
  },
  {
   "cell_type": "code",
   "execution_count": null,
   "metadata": {},
   "outputs": [],
   "source": [
    "import numpy as np\n",
    "import pandas as pd\n",
    "import matplotlib.pyplot as plt"
   ]
  },
  {
   "cell_type": "code",
   "execution_count": null,
   "metadata": {},
   "outputs": [],
   "source": [
    "train = pd.read_csv('train.csv').values\n",
    "X = train[:, :-1]\n",
    "Y = train[:, -1:]\n",
    "xt = pd.read_csv('test.csv').values\n",
    "\n",
    "u = X.mean(axis = 0)\n",
    "s = X.std(axis = 0)\n",
    "X = (X-u)/s\n",
    "xt = (xt-u)/s"
   ]
  },
  {
   "cell_type": "code",
   "execution_count": null,
   "metadata": {
    "scrolled": true
   },
   "outputs": [],
   "source": [
    "X = np.hstack((np.ones((X.shape[0], 1)), X))\n",
    "xt = np.hstack((np.ones((xt.shape[0], 1)), xt))"
   ]
  },
  {
   "cell_type": "code",
   "execution_count": null,
   "metadata": {},
   "outputs": [],
   "source": [
    "def hypothesis(X, theta):\n",
    "    return np.dot(X, theta)\n",
    "\n",
    "def gradient(X, Y, theta):\n",
    "    H = hypothesis(X, theta)\n",
    "    grad = np.dot(X.T, (H - Y))\n",
    "    return grad/X.shape[0]\n",
    "\n",
    "def loss(X, Y, theta):\n",
    "    H = hypothesis(X, theta)\n",
    "    error = (H - Y)**2\n",
    "    return error.mean()\n",
    "\n",
    "def gradientDescent(X, Y, max_itr=100, lr=0.1):\n",
    "    error_list = []\n",
    "    theta = np.zeros((X.shape[1], 1))\n",
    "    for i in range(max_itr):\n",
    "        grad = gradient(X, Y, theta)\n",
    "        theta = theta - lr*grad\n",
    "        error_list.append(loss(X, Y, theta))\n",
    "        \n",
    "    return theta, error_list"
   ]
  },
  {
   "cell_type": "code",
   "execution_count": null,
   "metadata": {},
   "outputs": [],
   "source": [
    "theta, error_list = gradientDescent(X, Y)\n",
    "plt.plot(error_list)\n",
    "plt.show()"
   ]
  },
  {
   "cell_type": "code",
   "execution_count": null,
   "metadata": {},
   "outputs": [],
   "source": [
    "yt = hypothesis(xt, theta)\n",
    "df = pd.DataFrame(yt, columns = ['target'])\n",
    "df.to_csv('pred.csv', index_label='Id')\n",
    "# print(yt.shape)"
   ]
  },
  {
   "cell_type": "code",
   "execution_count": null,
   "metadata": {},
   "outputs": [],
   "source": []
  }
 ],
 "metadata": {
  "kernelspec": {
   "display_name": "Python 3",
   "language": "python",
   "name": "python3"
  },
  "language_info": {
   "codemirror_mode": {
    "name": "ipython",
    "version": 3
   },
   "file_extension": ".py",
   "mimetype": "text/x-python",
   "name": "python",
   "nbconvert_exporter": "python",
   "pygments_lexer": "ipython3",
   "version": "3.7.6"
  }
 },
 "nbformat": 4,
 "nbformat_minor": 4
}
