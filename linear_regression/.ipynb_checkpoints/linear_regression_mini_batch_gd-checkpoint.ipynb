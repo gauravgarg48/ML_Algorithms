{
 "cells": [
  {
   "cell_type": "markdown",
   "metadata": {},
   "source": [
    "# Implementation of multiple Linear Regression with Mini-batch Gradient Descent Algorithm"
   ]
  },
  {
   "cell_type": "code",
   "execution_count": 1,
   "metadata": {},
   "outputs": [],
   "source": [
    "import numpy as np\n",
    "import pandas as pd\n",
    "import matplotlib.pyplot as plt\n",
    "\n",
    "from sklearn.datasets import load_boston"
   ]
  },
  {
   "cell_type": "code",
   "execution_count": 2,
   "metadata": {},
   "outputs": [
    {
     "name": "stdout",
     "output_type": "stream",
     "text": [
      "(506, 13)\n",
      "(506,)\n"
     ]
    }
   ],
   "source": [
    "# Load dataset\n",
    "boston = load_boston()\n",
    "\n",
    "X = boston.data\n",
    "y = boston.target\n",
    "\n",
    "print(X.shape)\n",
    "print(y.shape)"
   ]
  },
  {
   "cell_type": "code",
   "execution_count": 3,
   "metadata": {},
   "outputs": [
    {
     "name": "stdout",
     "output_type": "stream",
     "text": [
      "(506, 14)\n"
     ]
    }
   ],
   "source": [
    "# Normalise the dataset\n",
    "u = np.mean(X, axis=0)\n",
    "s = np.std(X, axis=0)\n",
    "X = (X-u)/s\n",
    "\n",
    "# Add 1's column in dataset\n",
    "ones  = np.ones((X.shape[0], 1))\n",
    "X = np.hstack((ones, X))\n",
    "y = y.reshape((-1, 1))\n",
    "\n",
    "print(X.shape)"
   ]
  },
  {
   "cell_type": "code",
   "execution_count": 4,
   "metadata": {
    "scrolled": true
   },
   "outputs": [],
   "source": [
    "# Mini-batch gradient descent\n",
    "\n",
    "def hypothesis(X, theta):\n",
    "    return np.dot(X, theta)\n",
    "\n",
    "def error(X, y, theta):\n",
    "    y_ = hypothesis(X, theta)\n",
    "    err = (y_ - y)**2\n",
    "    return err.mean()\n",
    "\n",
    "def gradient(X, y, theta):\n",
    "    y_ = hypothesis(X, theta)\n",
    "    grad = np.dot(X.T, (y_ - y))\n",
    "    m = X.shape[0]\n",
    "    \n",
    "    return grad / m\n",
    "\n",
    "def grad_desc_mb(X, y, max_itr=20, l_rate=0.1, batch_size=32):\n",
    "    (m, n) = X.shape\n",
    "    error_list = []\n",
    "    theta = np.zeros((n, 1))\n",
    "    k = int(m / batch_size)\n",
    "    \n",
    "    for i in range(max_itr):\n",
    "        for j in range(k+1):\n",
    "            \n",
    "            if j == k:\n",
    "                if m%batch_size > 0:\n",
    "                    X_mb = X[k*batch_size :, :]\n",
    "                    y_mb = y[k*batch_size :, :]\n",
    "                else:\n",
    "                    pass\n",
    "            else:\n",
    "                X_mb = X[j*batch_size : (j+1)*batch_size, :]\n",
    "                y_mb = y[j*batch_size : (j+1)*batch_size, :]\n",
    "                \n",
    "            error_list.append(error(X_mb, y_mb, theta))\n",
    "            \n",
    "            grad = gradient(X_mb, y_mb, theta)\n",
    "            theta = theta - l_rate*grad\n",
    "        \n",
    "    return theta, error_list"
   ]
  },
  {
   "cell_type": "code",
   "execution_count": 5,
   "metadata": {},
   "outputs": [
    {
     "data": {
      "image/png": "[encoded data removed]",
      "text/plain": [
       "<Figure size 432x288 with 1 Axes>"
      ]
     },
     "metadata": {
      "needs_background": "light"
     },
     "output_type": "display_data"
    }
   ],
   "source": [
    "theta, error_list = grad_desc_mb(X, y)\n",
    "\n",
    "# print('theta', theta)\n",
    "plt.plot(error_list)\n",
    "plt.show()"
   ]
  },
  {
   "cell_type": "code",
   "execution_count": 6,
   "metadata": {},
   "outputs": [],
   "source": [
    "# Computing R2 score\n",
    "\n",
    "def r2_score(y, y_):\n",
    "    num = np.sum((y-y_)**2)\n",
    "    denom = np.sum((y-y.mean())**2)\n",
    "    score = (1- num/denom)\n",
    "    return score*100"
   ]
  },
  {
   "cell_type": "code",
   "execution_count": 7,
   "metadata": {},
   "outputs": [
    {
     "name": "stdout",
     "output_type": "stream",
     "text": [
      "score 72.46925465900571\n"
     ]
    }
   ],
   "source": [
    "# Make Predictons\n",
    "\n",
    "y_pred = hypothesis(X, theta)\n",
    "print('score', r2_score(y, y_pred))"
   ]
  },
  {
   "cell_type": "code",
   "execution_count": null,
   "metadata": {},
   "outputs": [],
   "source": []
  },
  {
   "cell_type": "code",
   "execution_count": null,
   "metadata": {},
   "outputs": [],
   "source": []
  }
 ],
 "metadata": {
  "kernelspec": {
   "display_name": "Python 3",
   "language": "python",
   "name": "python3"
  },
  "language_info": {
   "codemirror_mode": {
    "name": "ipython",
    "version": 3
   },
   "file_extension": ".py",
   "mimetype": "text/x-python",
   "name": "python",
   "nbconvert_exporter": "python",
   "pygments_lexer": "ipython3",
   "version": "3.7.6"
  }
 },
 "nbformat": 4,
 "nbformat_minor": 4
}
