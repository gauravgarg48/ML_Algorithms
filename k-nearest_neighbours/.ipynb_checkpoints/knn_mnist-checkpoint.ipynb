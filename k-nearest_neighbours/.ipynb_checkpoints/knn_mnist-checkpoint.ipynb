{
 "cells": [
  {
   "cell_type": "markdown",
   "metadata": {},
   "source": [
    "# Recognizing MNIST handwritten digits using KNN"
   ]
  },
  {
   "cell_type": "code",
   "execution_count": 1,
   "metadata": {},
   "outputs": [],
   "source": [
    "import numpy as np\n",
    "import pandas as pd\n",
    "import matplotlib.pyplot as plt\n",
    "\n",
    "from sklearn import datasets, metrics\n",
    "from sklearn.model_selection import train_test_split"
   ]
  },
  {
   "cell_type": "code",
   "execution_count": 4,
   "metadata": {},
   "outputs": [
    {
     "name": "stdout",
     "output_type": "stream",
     "text": [
      "(1797, 64) (1797, 1)\n"
     ]
    }
   ],
   "source": [
    "# Load digit dataset\n",
    "\n",
    "X, y = datasets.load_digits(return_X_y=True)\n",
    "y = y.reshape((-1, 1))\n",
    "\n",
    "print(X.shape, y.shape)"
   ]
  },
  {
   "cell_type": "code",
   "execution_count": 8,
   "metadata": {},
   "outputs": [
    {
     "name": "stdout",
     "output_type": "stream",
     "text": [
      "digit = [0]\n"
     ]
    },
    {
     "data": {
      "image/png": "[encoded data removed]",
      "text/plain": [
       "<Figure size 432x288 with 1 Axes>"
      ]
     },
     "metadata": {
      "needs_background": "light"
     },
     "output_type": "display_data"
    }
   ],
   "source": [
    "# Visualize the dataset\n",
    "\n",
    "def drawImg(img, label):\n",
    "    print('digit =', label)\n",
    "    plt.imshow(img.reshape((8, 8)), cmap='gray')\n",
    "    plt.axis('off')\n",
    "    plt.show()\n",
    "\n",
    "drawImg(X[0], y[0])"
   ]
  },
  {
   "cell_type": "code",
   "execution_count": 7,
   "metadata": {},
   "outputs": [
    {
     "name": "stdout",
     "output_type": "stream",
     "text": [
      "(1437, 64) (1437, 1)\n",
      "(360, 64) (360, 1)\n"
     ]
    }
   ],
   "source": [
    "# Split dataset into train and test\n",
    "\n",
    "X_train, X_test, y_train, y_test = train_test_split(X, y, test_size=0.2, shuffle=True)\n",
    "\n",
    "print(X_train.shape, y_train.shape)\n",
    "print(X_test.shape, y_test.shape)"
   ]
  },
  {
   "cell_type": "code",
   "execution_count": 21,
   "metadata": {},
   "outputs": [],
   "source": [
    "# K-Nearest Neighbors algorithm\n",
    "\n",
    "# Euclidean distance\n",
    "def dist(x1, x2):\n",
    "    return np.sqrt(np.sum((x1-x2)**2))\n",
    "\n",
    "def knn_predict(X, y, query_x, k = 5):\n",
    "    vals = []\n",
    "    \n",
    "    for i in range(X.shape[0]):\n",
    "        d = dist(X[i], query_x)\n",
    "        vals.append((d, y[i]))\n",
    "    \n",
    "    vals = sorted(vals)\n",
    "    vals = np.array(vals[:k])\n",
    "    \n",
    "    vals = np.unique(vals[:, 1], return_counts=True)\n",
    "    ind = np.argmax(vals[1])\n",
    "    pred = vals[0][ind]\n",
    "    \n",
    "    return int(pred)"
   ]
  },
  {
   "cell_type": "code",
   "execution_count": 22,
   "metadata": {},
   "outputs": [
    {
     "name": "stdout",
     "output_type": "stream",
     "text": [
      "pred = 7\n",
      "digit = [7]\n"
     ]
    },
    {
     "data": {
      "image/png": "[encoded data removed]",
      "text/plain": [
       "<Figure size 432x288 with 1 Axes>"
      ]
     },
     "metadata": {
      "needs_background": "light"
     },
     "output_type": "display_data"
    }
   ],
   "source": [
    "# Make predctions\n",
    "p = knn_predict(X_train, y_train, X_test[0], k = 7)\n",
    "\n",
    "print('pred =', p)\n",
    "drawImg(X_test[0], y_test[0])"
   ]
  },
  {
   "cell_type": "code",
   "execution_count": 25,
   "metadata": {},
   "outputs": [
    {
     "name": "stdout",
     "output_type": "stream",
     "text": [
      "accuracy = [353]\n"
     ]
    }
   ],
   "source": [
    "# Predicting on test data and computing accuracy\n",
    "\n",
    "m = X_test.shape[0]\n",
    "acc = 0\n",
    "for i in range(m):\n",
    "    p = knn_predict(X_train, y_train, X_test[i])\n",
    "    acc += p==y_test[i]\n",
    "\n",
    "acc = acc/m\n",
    "print('accuracy =', acc)"
   ]
  },
  {
   "cell_type": "code",
   "execution_count": null,
   "metadata": {},
   "outputs": [],
   "source": []
  },
  {
   "cell_type": "code",
   "execution_count": null,
   "metadata": {},
   "outputs": [],
   "source": []
  }
 ],
 "metadata": {
  "kernelspec": {
   "display_name": "Python 3",
   "language": "python",
   "name": "python3"
  },
  "language_info": {
   "codemirror_mode": {
    "name": "ipython",
    "version": 3
   },
   "file_extension": ".py",
   "mimetype": "text/x-python",
   "name": "python",
   "nbconvert_exporter": "python",
   "pygments_lexer": "ipython3",
   "version": "3.7.6"
  }
 },
 "nbformat": 4,
 "nbformat_minor": 4
}
