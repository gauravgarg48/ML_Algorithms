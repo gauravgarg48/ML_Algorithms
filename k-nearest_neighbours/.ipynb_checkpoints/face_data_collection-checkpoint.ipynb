{
 "cells": [
  {
   "cell_type": "code",
   "execution_count": 1,
   "metadata": {},
   "outputs": [],
   "source": [
    "import cv2\n",
    "import numpy as np"
   ]
  },
  {
   "cell_type": "code",
   "execution_count": 2,
   "metadata": {},
   "outputs": [],
   "source": [
    "# Face detection haarcascade file\n",
    "fc_path = \"C:\\\\Users\\\\goura\\\\AppData\\\\Local\\\\Programs\\\\Python\\\\Python37\\\\Lib\\\\site-packages\\\\cv2\\\\data\\\\\"\n",
    "face_cascade = cv2.CascadeClassifier(fc_path + 'haarcascade_frontalface_default.xml')\n",
    "\n",
    "df_path = './face_data/'"
   ]
  },
  {
   "cell_type": "code",
   "execution_count": null,
   "metadata": {},
   "outputs": [],
   "source": [
    "# Read a video stream from camera(frame by frame)\n",
    "\n",
    "# Init camera\n",
    "cap = cv2.VideoCapture(0)\n",
    "skip = 0\n",
    "face_data = []\n",
    "file_name = input('Enter the name of the person: ')\n",
    "\n",
    "while True:\n",
    "    ret, frame = cap.read()\n",
    "    if ret == False:\n",
    "        continue\n",
    "    \n",
    "    gray_frame = cv2.cvtColor(frame, cv2.COLOR_BGR2GRAY)\n",
    "    faces = face_cascade.detectMultiScale(gray_frame, 1.3, 5)\n",
    "    \n",
    "    # Pick the largest face acc. to area\n",
    "    faces = sorted(faces, key=lambda f: f[2]*f[3], reverse=True)\n",
    "    \n",
    "    for face in faces:\n",
    "        x, y, w, h = face\n",
    "        cv2.rectangle(frame, (x, y), (x+w, y+h), (0, 255, 0), 2)\n",
    "        \n",
    "        # Extract region of interest\n",
    "        offset = 10\n",
    "        face_sec = frame[y-offset:y+h+offset, x-offset:x+w+offset]\n",
    "        face_sec = cv2.resize(face_sec, (100, 100))\n",
    "        \n",
    "        # Stores every 10th face\n",
    "        skip += 1\n",
    "        if skip%10 == 0:\n",
    "            face_data.append(face_sec)\n",
    "            cv2.imshow('Face Section', face_sec)\n",
    "            print(len(face_data), end=' ')\n",
    "            \n",
    "    cv2.imshow('VideoFrame', frame)\n",
    "    \n",
    "    # Wait for user input- q, then stop the process\n",
    "    key = cv2.waitKey(1) & 0xFF\n",
    "    if key == ord('q') or skip == 50:\n",
    "        break\n",
    "\n",
    "cap.release()\n",
    "cv2.destroyAllWindows()"
   ]
  },
  {
   "cell_type": "code",
   "execution_count": null,
   "metadata": {},
   "outputs": [],
   "source": [
    "# Convert face_data list into numpy array\n",
    "\n",
    "face_data = np.asarray(face_data)\n",
    "face_data = face_data.reshape((face_data.shape[0], -1))\n",
    "print(face_data.shape)\n",
    "\n",
    "# Save this data into file system\n",
    "file_path = df_path + file_name + '.npy'\n",
    "np.save(file_path, face_data)\n",
    "print('Data successfully saved at ', file_path)"
   ]
  },
  {
   "cell_type": "code",
   "execution_count": null,
   "metadata": {},
   "outputs": [],
   "source": []
  },
  {
   "cell_type": "code",
   "execution_count": null,
   "metadata": {},
   "outputs": [],
   "source": []
  }
 ],
 "metadata": {
  "kernelspec": {
   "display_name": "Python 3",
   "language": "python",
   "name": "python3"
  },
  "language_info": {
   "codemirror_mode": {
    "name": "ipython",
    "version": 3
   },
   "file_extension": ".py",
   "mimetype": "text/x-python",
   "name": "python",
   "nbconvert_exporter": "python",
   "pygments_lexer": "ipython3",
   "version": "3.7.6"
  }
 },
 "nbformat": 4,
 "nbformat_minor": 4
}
