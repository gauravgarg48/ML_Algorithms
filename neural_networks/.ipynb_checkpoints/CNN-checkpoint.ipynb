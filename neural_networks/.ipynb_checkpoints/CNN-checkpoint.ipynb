{
 "cells": [
  {
   "cell_type": "markdown",
   "metadata": {
    "colab_type": "text",
    "id": "0aOIvu3pW80a"
   },
   "source": [
    "# Implementation of Convolution Neural Network"
   ]
  },
  {
   "cell_type": "code",
   "execution_count": 1,
   "metadata": {},
   "outputs": [
    {
     "name": "stderr",
     "output_type": "stream",
     "text": [
      "Using TensorFlow backend.\n"
     ]
    }
   ],
   "source": [
    "import numpy as np\n",
    "import matplotlib.pyplot as plt\n",
    "from sklearn.preprocessing import OneHotEncoder\n",
    "\n",
    "from keras.layers import *\n",
    "from keras import Sequential\n",
    "from keras.datasets import mnist\n",
    "from keras.utils import to_categorical"
   ]
  },
  {
   "cell_type": "code",
   "execution_count": 2,
   "metadata": {},
   "outputs": [],
   "source": [
    "# Build CNN model\n",
    "model = Sequential()\n",
    "model.add(Conv2D(32, (3, 3), activation='relu', input_shape=(28, 28, 1)))\n",
    "model.add(MaxPool2D((2, 2)))\n",
    "model.add(Conv2D(64, (3, 3), activation='relu'))\n",
    "model.add(MaxPool2D((2, 2)))\n",
    "model.add(Conv2D(64, (3, 3), activation='relu'))\n",
    "model.add(MaxPool2D((2, 2)))\n",
    "\n",
    "model.add(Flatten())\n",
    "model.add(Dense(64, activation='relu'))\n",
    "model.add(Dense(10, activation='softmax'))"
   ]
  },
  {
   "cell_type": "code",
   "execution_count": 3,
   "metadata": {},
   "outputs": [
    {
     "name": "stdout",
     "output_type": "stream",
     "text": [
      "Model: \"sequential_1\"\n",
      "_________________________________________________________________\n",
      "Layer (type)                 Output Shape              Param #   \n",
      "=================================================================\n",
      "conv2d_1 (Conv2D)            (None, 26, 26, 32)        320       \n",
      "_________________________________________________________________\n",
      "max_pooling2d_1 (MaxPooling2 (None, 13, 13, 32)        0         \n",
      "_________________________________________________________________\n",
      "conv2d_2 (Conv2D)            (None, 11, 11, 64)        18496     \n",
      "_________________________________________________________________\n",
      "max_pooling2d_2 (MaxPooling2 (None, 5, 5, 64)          0         \n",
      "_________________________________________________________________\n",
      "conv2d_3 (Conv2D)            (None, 3, 3, 64)          36928     \n",
      "_________________________________________________________________\n",
      "max_pooling2d_3 (MaxPooling2 (None, 1, 1, 64)          0         \n",
      "_________________________________________________________________\n",
      "flatten_1 (Flatten)          (None, 64)                0         \n",
      "_________________________________________________________________\n",
      "dense_1 (Dense)              (None, 64)                4160      \n",
      "_________________________________________________________________\n",
      "dense_2 (Dense)              (None, 10)                650       \n",
      "=================================================================\n",
      "Total params: 60,554\n",
      "Trainable params: 60,554\n",
      "Non-trainable params: 0\n",
      "_________________________________________________________________\n"
     ]
    }
   ],
   "source": [
    "model.summary()"
   ]
  },
  {
   "cell_type": "code",
   "execution_count": 4,
   "metadata": {},
   "outputs": [
    {
     "name": "stdout",
     "output_type": "stream",
     "text": [
      "Downloading data from https://s3.amazonaws.com/img-datasets/mnist.npz\n",
      "11493376/11490434 [==============================] - 10s 1us/step\n"
     ]
    }
   ],
   "source": [
    "(x_train, y_train), (x_test, y_test) = mnist.load_data()\n",
    "\n",
    "x_train = x_train.reshape((-1, 28, 28, 1))\n",
    "x_test = x_test.reshape((-1, 28, 28, 1))\n",
    "x_train = x_train / 255.0\n",
    "x_test = x_test / 255.0\n",
    "y_train = to_categorical(y_train)"
   ]
  },
  {
   "cell_type": "code",
   "execution_count": 5,
   "metadata": {},
   "outputs": [
    {
     "name": "stdout",
     "output_type": "stream",
     "text": [
      "Train on 54000 samples, validate on 6000 samples\n",
      "Epoch 1/20\n",
      "54000/54000 [==============================] - 33s 617us/step - loss: 0.3486 - accuracy: 0.8983 - val_loss: 0.1047 - val_accuracy: 0.9702\n",
      "Epoch 2/20\n",
      "54000/54000 [==============================] - 33s 615us/step - loss: 0.1057 - accuracy: 0.9678 - val_loss: 0.0774 - val_accuracy: 0.9778\n",
      "Epoch 3/20\n",
      "54000/54000 [==============================] - 33s 619us/step - loss: 0.0783 - accuracy: 0.9760 - val_loss: 0.0906 - val_accuracy: 0.9760\n",
      "Epoch 4/20\n",
      "54000/54000 [==============================] - 33s 610us/step - loss: 0.0638 - accuracy: 0.9802 - val_loss: 0.0642 - val_accuracy: 0.9818\n",
      "Epoch 5/20\n",
      "54000/54000 [==============================] - 33s 611us/step - loss: 0.0506 - accuracy: 0.9845 - val_loss: 0.0554 - val_accuracy: 0.9850\n",
      "Epoch 6/20\n",
      "54000/54000 [==============================] - 33s 613us/step - loss: 0.0446 - accuracy: 0.9862 - val_loss: 0.0551 - val_accuracy: 0.9853\n",
      "Epoch 7/20\n",
      "54000/54000 [==============================] - 33s 612us/step - loss: 0.0401 - accuracy: 0.9875 - val_loss: 0.0619 - val_accuracy: 0.9835\n",
      "Epoch 8/20\n",
      "54000/54000 [==============================] - 33s 610us/step - loss: 0.0357 - accuracy: 0.9882 - val_loss: 0.0493 - val_accuracy: 0.9873\n",
      "Epoch 9/20\n",
      "54000/54000 [==============================] - 33s 614us/step - loss: 0.0295 - accuracy: 0.9901 - val_loss: 0.0448 - val_accuracy: 0.9885\n",
      "Epoch 10/20\n",
      "54000/54000 [==============================] - 33s 614us/step - loss: 0.0257 - accuracy: 0.9917 - val_loss: 0.0456 - val_accuracy: 0.9875\n",
      "Epoch 11/20\n",
      "54000/54000 [==============================] - 33s 614us/step - loss: 0.0211 - accuracy: 0.9931 - val_loss: 0.0576 - val_accuracy: 0.9872\n",
      "Epoch 12/20\n",
      "54000/54000 [==============================] - 33s 609us/step - loss: 0.0191 - accuracy: 0.9936 - val_loss: 0.0568 - val_accuracy: 0.9868\n",
      "Epoch 13/20\n",
      "54000/54000 [==============================] - 33s 610us/step - loss: 0.0171 - accuracy: 0.9943 - val_loss: 0.0486 - val_accuracy: 0.9893\n",
      "Epoch 14/20\n",
      "54000/54000 [==============================] - 33s 617us/step - loss: 0.0163 - accuracy: 0.9946 - val_loss: 0.0515 - val_accuracy: 0.9868\n",
      "Epoch 15/20\n",
      "54000/54000 [==============================] - 33s 614us/step - loss: 0.0131 - accuracy: 0.9954 - val_loss: 0.0522 - val_accuracy: 0.9880\n",
      "Epoch 16/20\n",
      "54000/54000 [==============================] - 33s 611us/step - loss: 0.0128 - accuracy: 0.9958 - val_loss: 0.0525 - val_accuracy: 0.9893\n",
      "Epoch 17/20\n",
      "54000/54000 [==============================] - 33s 611us/step - loss: 0.0111 - accuracy: 0.9961 - val_loss: 0.0481 - val_accuracy: 0.9895\n",
      "Epoch 18/20\n",
      "54000/54000 [==============================] - 33s 612us/step - loss: 0.0090 - accuracy: 0.9969 - val_loss: 0.0541 - val_accuracy: 0.9895\n",
      "Epoch 19/20\n",
      "54000/54000 [==============================] - 33s 612us/step - loss: 0.0079 - accuracy: 0.9974 - val_loss: 0.0692 - val_accuracy: 0.9873\n",
      "Epoch 20/20\n",
      "54000/54000 [==============================] - 33s 610us/step - loss: 0.0092 - accuracy: 0.9968 - val_loss: 0.0537 - val_accuracy: 0.9890\n"
     ]
    }
   ],
   "source": [
    "# compile the model\n",
    "model.compile(optimizer='adam', loss='categorical_crossentropy', metrics=['accuracy'])\n",
    "\n",
    "# train the model\n",
    "hist = model.fit(x_train, y_train, epochs=20, batch_size=128, validation_split=0.1)"
   ]
  },
  {
   "cell_type": "code",
   "execution_count": 8,
   "metadata": {},
   "outputs": [
    {
     "data": {
      "image/png": "[encoded data removed]",
      "text/plain": [
       "<Figure size 432x288 with 1 Axes>"
      ]
     },
     "metadata": {
      "needs_background": "light"
     },
     "output_type": "display_data"
    }
   ],
   "source": [
    "plt.plot(hist.history['val_loss'], c='b')\n",
    "plt.plot(hist.history['loss'], c='g')\n",
    "plt.show()"
   ]
  },
  {
   "cell_type": "code",
   "execution_count": 6,
   "metadata": {},
   "outputs": [],
   "source": [
    "pred = model.predict(x_test)\n",
    "pred = np.argmax(pred, axis = 1)\n",
    "acc = np.mean(pred == y_test)"
   ]
  },
  {
   "cell_type": "code",
   "execution_count": 7,
   "metadata": {},
   "outputs": [
    {
     "name": "stdout",
     "output_type": "stream",
     "text": [
      "0.9871\n"
     ]
    }
   ],
   "source": [
    "print(acc)"
   ]
  },
  {
   "cell_type": "code",
   "execution_count": null,
   "metadata": {},
   "outputs": [],
   "source": []
  },
  {
   "cell_type": "code",
   "execution_count": null,
   "metadata": {},
   "outputs": [],
   "source": []
  }
 ],
 "metadata": {
  "colab": {
   "collapsed_sections": [],
   "name": "NeuralNetwork.ipynb",
   "provenance": []
  },
  "kernelspec": {
   "display_name": "Python 3",
   "language": "python",
   "name": "python3"
  },
  "language_info": {
   "codemirror_mode": {
    "name": "ipython",
    "version": 3
   },
   "file_extension": ".py",
   "mimetype": "text/x-python",
   "name": "python",
   "nbconvert_exporter": "python",
   "pygments_lexer": "ipython3",
   "version": "3.7.6"
  }
 },
 "nbformat": 4,
 "nbformat_minor": 1
}
