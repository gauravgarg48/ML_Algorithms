{
 "cells": [
  {
   "cell_type": "markdown",
   "metadata": {},
   "source": [
    "## Multi class classification of MNIST data using One-vs-One method"
   ]
  },
  {
   "cell_type": "code",
   "execution_count": 1,
   "metadata": {},
   "outputs": [],
   "source": [
    "import numpy as np\n",
    "import pandas as pd\n",
    "from matplotlib import pyplot as plt\n",
    "\n",
    "from sklearn import svm\n",
    "from sklearn.datasets import load_digits"
   ]
  },
  {
   "cell_type": "code",
   "execution_count": 2,
   "metadata": {},
   "outputs": [
    {
     "name": "stdout",
     "output_type": "stream",
     "text": [
      "(720, 64) (720,)\n"
     ]
    }
   ],
   "source": [
    "CLASSES = 4\n",
    "digits = load_digits(n_class = CLASSES)\n",
    "X = digits.data\n",
    "y = digits.target\n",
    "print(X.shape, y.shape)"
   ]
  },
  {
   "cell_type": "code",
   "execution_count": 3,
   "metadata": {},
   "outputs": [
    {
     "data": {
      "image/png": "[encoded data removed]",
      "text/plain": [
       "<Figure size 432x288 with 1 Axes>"
      ]
     },
     "metadata": {
      "needs_background": "light"
     },
     "output_type": "display_data"
    },
    {
     "name": "stdout",
     "output_type": "stream",
     "text": [
      "Label- 0\n"
     ]
    },
    {
     "data": {
      "image/png": "[encoded data removed]",
      "text/plain": [
       "<Figure size 432x288 with 1 Axes>"
      ]
     },
     "metadata": {
      "needs_background": "light"
     },
     "output_type": "display_data"
    },
    {
     "name": "stdout",
     "output_type": "stream",
     "text": [
      "Label- 1\n"
     ]
    },
    {
     "data": {
      "image/png": "[encoded data removed]",
      "text/plain": [
       "<Figure size 432x288 with 1 Axes>"
      ]
     },
     "metadata": {
      "needs_background": "light"
     },
     "output_type": "display_data"
    },
    {
     "name": "stdout",
     "output_type": "stream",
     "text": [
      "Label- 2\n"
     ]
    },
    {
     "data": {
      "image/png": "[encoded data removed]",
      "text/plain": [
       "<Figure size 432x288 with 1 Axes>"
      ]
     },
     "metadata": {
      "needs_background": "light"
     },
     "output_type": "display_data"
    },
    {
     "name": "stdout",
     "output_type": "stream",
     "text": [
      "Label- 3\n"
     ]
    }
   ],
   "source": [
    "# Visualise the dataset\n",
    "\n",
    "def drawImg(x, y=None):\n",
    "    img = x.reshape((8, 8))\n",
    "    plt.imshow(img, cmap='gray')\n",
    "    plt.axis('off')\n",
    "    plt.show()\n",
    "    if y is not None:\n",
    "        print('Label-', y)\n",
    "    return\n",
    "\n",
    "for i in range(4):\n",
    "    drawImg(X[i], y[i])"
   ]
  },
  {
   "cell_type": "code",
   "execution_count": 4,
   "metadata": {},
   "outputs": [],
   "source": [
    "def classWiseData(X, y):\n",
    "    data = {}\n",
    "    for i in range(CLASSES):\n",
    "        data[i] = []\n",
    "    \n",
    "    m = X.shape[0]\n",
    "    for i in range(m):\n",
    "        data[y[i]].append(X[i])\n",
    "    for i in range(CLASSES):\n",
    "        data[i] = np.array(data[i])\n",
    "        \n",
    "    return data"
   ]
  },
  {
   "cell_type": "code",
   "execution_count": 5,
   "metadata": {},
   "outputs": [
    {
     "name": "stdout",
     "output_type": "stream",
     "text": [
      "4\n",
      "(178, 64)\n",
      "(182, 64)\n",
      "(177, 64)\n",
      "(183, 64)\n"
     ]
    }
   ],
   "source": [
    "split_data = classWiseData(X, y)\n",
    "\n",
    "print(len(split_data.keys()))\n",
    "print(split_data[0].shape)\n",
    "print(split_data[1].shape)\n",
    "print(split_data[2].shape)\n",
    "print(split_data[3].shape)"
   ]
  },
  {
   "cell_type": "code",
   "execution_count": 6,
   "metadata": {},
   "outputs": [],
   "source": [
    "def getDataPairForSVM(d1, d2):\n",
    "    m1, m2 = d1.shape[0], d2.shape[0]\n",
    "    y1 = np.zeros((m1,), dtype='uint')\n",
    "    y2 = np.ones((m2,), dtype='uint')\n",
    "    \n",
    "    X = np.vstack((d1, d2))\n",
    "    y = np.hstack((y1, y2))\n",
    "    \n",
    "    return X, y"
   ]
  },
  {
   "cell_type": "markdown",
   "metadata": {},
   "source": [
    "## Training NC2 SVM'S - one vs one classification"
   ]
  },
  {
   "cell_type": "code",
   "execution_count": 7,
   "metadata": {},
   "outputs": [],
   "source": [
    "def trainSVMs(data):\n",
    "    svm_clfs = {}\n",
    "    \n",
    "    for i in range(CLASSES):\n",
    "        svm_clfs[i] = {}\n",
    "        for j in range(i+1, CLASSES):\n",
    "            Xpair, ypair = getDataPairForSVM(data[i], data[j])\n",
    "            svm_clf = svm.SVC()\n",
    "            svm_clfs[i][j] = svm_clf.fit(Xpair, ypair)\n",
    "    \n",
    "    return svm_clfs"
   ]
  },
  {
   "cell_type": "code",
   "execution_count": 8,
   "metadata": {},
   "outputs": [],
   "source": [
    "svm_clfs = trainSVMs(split_data)"
   ]
  },
  {
   "cell_type": "markdown",
   "metadata": {},
   "source": [
    "## Prediction"
   ]
  },
  {
   "cell_type": "code",
   "execution_count": 9,
   "metadata": {},
   "outputs": [],
   "source": [
    "def predict(x):\n",
    "    count = np.zeros((CLASSES,))\n",
    "    x = x.reshape((1, -1))\n",
    "    \n",
    "    for i in range(CLASSES):\n",
    "        for j in range(i+1, CLASSES):\n",
    "            svm_clf = svm_clfs[i][j]\n",
    "            \n",
    "            # Take a majority prediction\n",
    "            z = svm_clf.predict(x)\n",
    "            \n",
    "            if(z==1):\n",
    "                count[j] += 1\n",
    "            else:\n",
    "                count[i] += 1\n",
    "    \n",
    "    final_pred = np.argmax(count)    \n",
    "    return int(final_pred)"
   ]
  },
  {
   "cell_type": "code",
   "execution_count": 10,
   "metadata": {},
   "outputs": [
    {
     "name": "stdout",
     "output_type": "stream",
     "text": [
      "0\n",
      "0\n"
     ]
    }
   ],
   "source": [
    "print(predict(X[0]))\n",
    "print(y[0])"
   ]
  },
  {
   "cell_type": "code",
   "execution_count": 11,
   "metadata": {},
   "outputs": [],
   "source": [
    "def accuracy(X, y):\n",
    "    acc = 0\n",
    "    m = X.shape[0]\n",
    "    for i in range(m):\n",
    "        if y[i] == predict(X[i]):\n",
    "            acc += 1\n",
    "    return acc/m"
   ]
  },
  {
   "cell_type": "code",
   "execution_count": 12,
   "metadata": {},
   "outputs": [
    {
     "name": "stdout",
     "output_type": "stream",
     "text": [
      "1.0\n"
     ]
    }
   ],
   "source": [
    "print(accuracy(X, y))"
   ]
  },
  {
   "cell_type": "code",
   "execution_count": null,
   "metadata": {},
   "outputs": [],
   "source": []
  },
  {
   "cell_type": "code",
   "execution_count": null,
   "metadata": {},
   "outputs": [],
   "source": []
  }
 ],
 "metadata": {
  "kernelspec": {
   "display_name": "Python 3",
   "language": "python",
   "name": "python3"
  },
  "language_info": {
   "codemirror_mode": {
    "name": "ipython",
    "version": 3
   },
   "file_extension": ".py",
   "mimetype": "text/x-python",
   "name": "python",
   "nbconvert_exporter": "python",
   "pygments_lexer": "ipython3",
   "version": "3.7.6"
  }
 },
 "nbformat": 4,
 "nbformat_minor": 4
}
