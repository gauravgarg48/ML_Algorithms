{
 "cells": [
  {
   "cell_type": "markdown",
   "metadata": {},
   "source": [
    "## Implementation of Logistic Regression using Regularization method"
   ]
  },
  {
   "cell_type": "code",
   "execution_count": 1,
   "metadata": {},
   "outputs": [],
   "source": [
    "import numpy as np\n",
    "import pandas as pd\n",
    "import math\n",
    "import matplotlib.pyplot as plt"
   ]
  },
  {
   "cell_type": "code",
   "execution_count": 2,
   "metadata": {},
   "outputs": [],
   "source": [
    "X_train = pd.read_csv('Logistic_X_Train.csv').values\n",
    "Y_train = pd.read_csv('Logistic_Y_Train.csv').values\n",
    "X_test = pd.read_csv('Logistic_X_Test.csv').values\n",
    "\n",
    "X_train = np.hstack((np.ones((X_train.shape[0], 1)), X_train))\n",
    "X_test = np.hstack((np.ones((X_test.shape[0], 1)), X_test))"
   ]
  },
  {
   "cell_type": "code",
   "execution_count": 3,
   "metadata": {},
   "outputs": [],
   "source": [
    "def hypothesis(X, theta):\n",
    "    val = np.dot(X, theta)\n",
    "    val = 1/(1+np.exp(-1*val))\n",
    "    return val.reshape((-1, 1))\n",
    "\n",
    "def gradient(X, Y, theta, reg_factor):\n",
    "    h = hypothesis(X, theta)\n",
    "    grad = np.dot(X.T, h-Y)\n",
    "    \n",
    "    grad[1:] += reg_factor * theta[1:]\n",
    "    return grad/X.shape[0]\n",
    "\n",
    "def loss(X, Y, theta, reg_factor):\n",
    "    e1 = e2 = 0.0\n",
    "    (m, n) = X.shape\n",
    "    h = hypothesis(X, theta)\n",
    "    e1 = -( (Y*np.log2(h)) + ((1-Y)*np.log2(1-h)) )\n",
    "    \n",
    "    e2 = reg_factor * np.square(theta[1:])\n",
    "    return (e1.sum() + e2.sum())/m\n",
    "        \n",
    "def grad_desc(X, Y, lr=0.1, max_itr=400, reg_factor=100):\n",
    "    theta = np.zeros((X.shape[1], 1))\n",
    "    error = []\n",
    "    for i in range(max_itr):\n",
    "        grad = gradient(X, Y, theta, reg_factor)\n",
    "        theta = theta - lr*grad\n",
    "        error.append(loss(X, Y, theta, reg_factor))\n",
    "    return theta, error\n",
    "\n",
    "def predict(X, theta):\n",
    "    val = hypothesis(X, theta)\n",
    "    val = (val >= 0.5).astype('int8')\n",
    "    return val"
   ]
  },
  {
   "cell_type": "code",
   "execution_count": 4,
   "metadata": {},
   "outputs": [
    {
     "name": "stdout",
     "output_type": "stream",
     "text": [
      "[[-0.79850665]\n",
      " [-1.35013754]\n",
      " [ 0.68591467]\n",
      " [-1.33836235]]\n"
     ]
    },
    {
     "data": {
      "image/png": "[encoded data removed]",
      "text/plain": [
       "<Figure size 432x288 with 1 Axes>"
      ]
     },
     "metadata": {
      "needs_background": "light"
     },
     "output_type": "display_data"
    }
   ],
   "source": [
    "theta, error = grad_desc(X_train, Y_train)\n",
    "print(theta)\n",
    "plt.plot(error)\n",
    "plt.show()"
   ]
  },
  {
   "cell_type": "code",
   "execution_count": 5,
   "metadata": {},
   "outputs": [],
   "source": [
    "y_pred = predict(X_test, theta)\n",
    "pd.DataFrame(y_pred, columns=['label']).to_csv('pred.csv', index=False)"
   ]
  },
  {
   "cell_type": "code",
   "execution_count": null,
   "metadata": {},
   "outputs": [],
   "source": []
  },
  {
   "cell_type": "code",
   "execution_count": null,
   "metadata": {},
   "outputs": [],
   "source": []
  }
 ],
 "metadata": {
  "kernelspec": {
   "display_name": "Python 3",
   "language": "python",
   "name": "python3"
  },
  "language_info": {
   "codemirror_mode": {
    "name": "ipython",
    "version": 3
   },
   "file_extension": ".py",
   "mimetype": "text/x-python",
   "name": "python",
   "nbconvert_exporter": "python",
   "pygments_lexer": "ipython3",
   "version": "3.7.6"
  }
 },
 "nbformat": 4,
 "nbformat_minor": 4
}
