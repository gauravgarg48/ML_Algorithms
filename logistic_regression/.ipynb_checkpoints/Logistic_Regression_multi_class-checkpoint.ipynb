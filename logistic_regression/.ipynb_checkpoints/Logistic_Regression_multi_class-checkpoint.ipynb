{
 "cells": [
  {
   "cell_type": "markdown",
   "metadata": {},
   "source": [
    "## Implementation of Multi-class Logistic Regression using Regularization method"
   ]
  },
  {
   "cell_type": "code",
   "execution_count": 1,
   "metadata": {},
   "outputs": [],
   "source": [
    "import numpy as np\n",
    "import pandas as pd\n",
    "import math\n",
    "import matplotlib.pyplot as plt\n",
    "from sklearn import datasets, metrics\n",
    "from sklearn.model_selection import train_test_split"
   ]
  },
  {
   "cell_type": "code",
   "execution_count": 2,
   "metadata": {},
   "outputs": [],
   "source": [
    "X, Y = datasets.load_digits(return_X_y=True)\n",
    "Y = Y.reshape((-1, 1))\n",
    "X_train, X_test, y_train, y_test = train_test_split(X, Y, test_size=0.2, shuffle=True)\n",
    "\n",
    "X_train = np.hstack((np.ones((X_train.shape[0], 1)), X_train))\n",
    "X_test = np.hstack((np.ones((X_test.shape[0], 1)), X_test))"
   ]
  },
  {
   "cell_type": "code",
   "execution_count": 3,
   "metadata": {},
   "outputs": [],
   "source": [
    "def hypothesis(X, theta):\n",
    "    val = np.dot(X, theta)\n",
    "    val = 1.0 / (1.0 + np.exp(-1*val))\n",
    "    return val\n",
    "\n",
    "def gradient(X, Y, theta, reg_factor):\n",
    "    h = hypothesis(X, theta)\n",
    "    grad = np.dot(X.T, h-Y)\n",
    "    \n",
    "    grad[1:] += reg_factor * theta[1:]\n",
    "    return grad/X.shape[0]\n",
    "\n",
    "def loss(X, Y, theta, reg_factor):\n",
    "    e1 = e2 = 0.0\n",
    "    (m, n) = X.shape\n",
    "    h = hypothesis(X, theta)\n",
    "    e1 = -( (Y*np.log2(h)) + ((1-Y)*np.log2(1-h)) )\n",
    "    \n",
    "    e2 = reg_factor * np.square(theta[1:])\n",
    "    return (e1.sum() + e2.sum())/m\n",
    "        \n",
    "def grad_desc(X, Y, lr=0.1, max_itr=400, reg_factor=100):\n",
    "    theta = np.zeros((X.shape[1], 1))\n",
    "    error = []\n",
    "    for i in range(max_itr):\n",
    "        grad = gradient(X, Y, theta, reg_factor)\n",
    "        theta = theta - lr*grad\n",
    "        error.append(loss(X, Y, theta, reg_factor))\n",
    "    return theta, error"
   ]
  },
  {
   "cell_type": "code",
   "execution_count": 4,
   "metadata": {},
   "outputs": [],
   "source": [
    "def oneVsAll(X, Y, lr=0.01, max_itr=400, reg_factor=100):\n",
    "    num_labels = np.unique(Y).shape[0]\n",
    "    all_theta = np.zeros((num_labels, X.shape[1]))\n",
    "    total_err = []\n",
    "    \n",
    "    for i in range(num_labels):\n",
    "        y = (Y == i).astype('int8')\n",
    "        (theta, err) = grad_desc(X, y, lr, max_itr, reg_factor)\n",
    "        all_theta[i, :] = theta.reshape((1, -1))\n",
    "        total_err.append(err)\n",
    "        \n",
    "    total_err = np.sum(np.array(total_err), axis=0)\n",
    "    return all_theta, total_err\n",
    "\n",
    "def predictOneVsAll(X, theta):\n",
    "    val = hypothesis(X, all_theta.T)\n",
    "    return np.argmax(val, axis=1)"
   ]
  },
  {
   "cell_type": "code",
   "execution_count": 5,
   "metadata": {},
   "outputs": [
    {
     "data": {
      "image/png": "[encoded data removed]",
      "text/plain": [
       "<Figure size 432x288 with 1 Axes>"
      ]
     },
     "metadata": {
      "needs_background": "light"
     },
     "output_type": "display_data"
    }
   ],
   "source": [
    "all_theta, err = oneVsAll(X_train, y_train)\n",
    "plt.plot(err)\n",
    "plt.show()"
   ]
  },
  {
   "cell_type": "code",
   "execution_count": 6,
   "metadata": {},
   "outputs": [
    {
     "name": "stdout",
     "output_type": "stream",
     "text": [
      "0.9666666666666667\n"
     ]
    }
   ],
   "source": [
    "y_pred = predictOneVsAll(X_test, all_theta)\n",
    "score = metrics.accuracy_score(y_test, y_pred)\n",
    "print(score)"
   ]
  },
  {
   "cell_type": "code",
   "execution_count": null,
   "metadata": {},
   "outputs": [],
   "source": []
  },
  {
   "cell_type": "code",
   "execution_count": null,
   "metadata": {},
   "outputs": [],
   "source": []
  }
 ],
 "metadata": {
  "kernelspec": {
   "display_name": "Python 3",
   "language": "python",
   "name": "python3"
  },
  "language_info": {
   "codemirror_mode": {
    "name": "ipython",
    "version": 3
   },
   "file_extension": ".py",
   "mimetype": "text/x-python",
   "name": "python",
   "nbconvert_exporter": "python",
   "pygments_lexer": "ipython3",
   "version": "3.7.6"
  }
 },
 "nbformat": 4,
 "nbformat_minor": 4
}
