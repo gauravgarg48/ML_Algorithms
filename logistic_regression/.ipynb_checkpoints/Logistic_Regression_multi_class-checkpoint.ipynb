{
 "cells": [
  {
   "cell_type": "markdown",
   "metadata": {},
   "source": [
    "## Implementation of Multi-class Logistic Regression"
   ]
  },
  {
   "cell_type": "code",
   "execution_count": 1,
   "metadata": {},
   "outputs": [],
   "source": [
    "import numpy as np\n",
    "import pandas as pd\n",
    "import matplotlib.pyplot as plt\n",
    "\n",
    "from sklearn import datasets, metrics\n",
    "from sklearn.model_selection import train_test_split"
   ]
  },
  {
   "cell_type": "code",
   "execution_count": 2,
   "metadata": {},
   "outputs": [
    {
     "name": "stdout",
     "output_type": "stream",
     "text": [
      "(1797, 64) (1797, 1)\n"
     ]
    }
   ],
   "source": [
    "# Load digit dataset\n",
    "\n",
    "X, y = datasets.load_digits(return_X_y=True)\n",
    "y = y.reshape((-1, 1))\n",
    "\n",
    "print(X.shape, y.shape)"
   ]
  },
  {
   "cell_type": "code",
   "execution_count": 3,
   "metadata": {},
   "outputs": [
    {
     "name": "stdout",
     "output_type": "stream",
     "text": [
      "digit = [0]\n"
     ]
    },
    {
     "data": {
      "image/png": "[encoded data removed]",
      "text/plain": [
       "<Figure size 432x288 with 1 Axes>"
      ]
     },
     "metadata": {
      "needs_background": "light"
     },
     "output_type": "display_data"
    }
   ],
   "source": [
    "# Visualize the dataset\n",
    "\n",
    "print('digit =', y[0])\n",
    "plt.imshow(X[0].reshape((8, 8)), cmap='gray')\n",
    "plt.axis('off')\n",
    "plt.show()"
   ]
  },
  {
   "cell_type": "code",
   "execution_count": 4,
   "metadata": {},
   "outputs": [
    {
     "name": "stdout",
     "output_type": "stream",
     "text": [
      "(1437, 65) (1437, 1)\n",
      "(360, 65) (360, 1)\n"
     ]
    }
   ],
   "source": [
    "X = np.hstack(( np.ones((X.shape[0], 1)), X))\n",
    "X_train, X_test, y_train, y_test = train_test_split(X, y, test_size=0.2, shuffle=True)\n",
    "\n",
    "print(X_train.shape, y_train.shape)\n",
    "print(X_test.shape, y_test.shape)"
   ]
  },
  {
   "cell_type": "code",
   "execution_count": 5,
   "metadata": {},
   "outputs": [],
   "source": [
    "# Logistic Regression algorithm\n",
    "\n",
    "def sigmoid(x):\n",
    "    return 1.0/(1.0+np.exp(-1*x))\n",
    "\n",
    "def hypothesis(X, theta):\n",
    "    h = np.dot(X, theta)\n",
    "    return sigmoid(h)\n",
    "\n",
    "def loss(X, y, theta):\n",
    "    h = hypothesis(X, theta)\n",
    "    err = -((y * np.log2(h)) + ((1-y) * np.log2(1-h)))\n",
    "    return h.mean()\n",
    "\n",
    "def gradient(X, y, theta):\n",
    "    h = hypothesis(X, theta)\n",
    "    grad = np.dot(X.T, h-y)\n",
    "    return grad / X.shape[0]\n",
    "\n",
    "def grad_desc(X, y, l_rate=0.1, max_itr=500):\n",
    "    theta = np.zeros((X.shape[1], 1))\n",
    "    err_list = []\n",
    "    \n",
    "    for i in range(max_itr):\n",
    "        err_list.append(loss(X, y, theta))\n",
    "        \n",
    "        grad = gradient(X, y, theta)\n",
    "        theta = theta - l_rate*grad\n",
    "        \n",
    "    return theta, err_list"
   ]
  },
  {
   "cell_type": "code",
   "execution_count": 6,
   "metadata": {},
   "outputs": [],
   "source": [
    "# Multi class classifier\n",
    "\n",
    "def oneVsAll(X, y, l_rate=0.1, max_itr=500):\n",
    "    num_labels = np.unique(y).shape[0]\n",
    "    all_theta = np.zeros((num_labels, X.shape[1]))\n",
    "    total_err = []\n",
    "    \n",
    "    for i in range(num_labels):\n",
    "        new_y = (y == i).astype('int8')\n",
    "        (theta, err) = grad_desc(X, new_y, l_rate, max_itr)\n",
    "        all_theta[i, :] = theta.reshape((1, -1))\n",
    "        total_err.append(err)\n",
    "        \n",
    "    total_err = np.sum(np.array(total_err), axis=0)\n",
    "    return all_theta, total_err\n",
    "\n",
    "def predictOneVsAll(X, theta):\n",
    "    val = hypothesis(X, all_theta.T)\n",
    "    return np.argmax(val, axis=1)"
   ]
  },
  {
   "cell_type": "code",
   "execution_count": 7,
   "metadata": {},
   "outputs": [
    {
     "name": "stderr",
     "output_type": "stream",
     "text": [
      "c:\\users\\goura\\appdata\\local\\programs\\python\\python37\\lib\\site-packages\\ipykernel_launcher.py:12: RuntimeWarning: divide by zero encountered in log2\n",
      "  if sys.path[0] == '':\n",
      "c:\\users\\goura\\appdata\\local\\programs\\python\\python37\\lib\\site-packages\\ipykernel_launcher.py:12: RuntimeWarning: invalid value encountered in multiply\n",
      "  if sys.path[0] == '':\n"
     ]
    }
   ],
   "source": [
    "all_theta, err = oneVsAll(X_train, y_train)"
   ]
  },
  {
   "cell_type": "code",
   "execution_count": 8,
   "metadata": {},
   "outputs": [
    {
     "data": {
      "image/png": "[encoded data removed]",
      "text/plain": [
       "<Figure size 432x288 with 1 Axes>"
      ]
     },
     "metadata": {
      "needs_background": "light"
     },
     "output_type": "display_data"
    }
   ],
   "source": [
    "# Reduction of error over time\n",
    "\n",
    "plt.plot(err)\n",
    "plt.xlabel('Time')\n",
    "plt.ylabel('Categorical cross entropy')\n",
    "plt.show()"
   ]
  },
  {
   "cell_type": "code",
   "execution_count": 9,
   "metadata": {},
   "outputs": [
    {
     "name": "stdout",
     "output_type": "stream",
     "text": [
      "0.9638888888888889\n"
     ]
    }
   ],
   "source": [
    "# Make predictions\n",
    "\n",
    "y_pred = predictOneVsAll(X_test, all_theta)\n",
    "score = metrics.accuracy_score(y_test, y_pred)\n",
    "print(score)"
   ]
  },
  {
   "cell_type": "code",
   "execution_count": null,
   "metadata": {},
   "outputs": [],
   "source": []
  },
  {
   "cell_type": "code",
   "execution_count": null,
   "metadata": {},
   "outputs": [],
   "source": []
  }
 ],
 "metadata": {
  "kernelspec": {
   "display_name": "Python 3",
   "language": "python",
   "name": "python3"
  },
  "language_info": {
   "codemirror_mode": {
    "name": "ipython",
    "version": 3
   },
   "file_extension": ".py",
   "mimetype": "text/x-python",
   "name": "python",
   "nbconvert_exporter": "python",
   "pygments_lexer": "ipython3",
   "version": "3.7.6"
  }
 },
 "nbformat": 4,
 "nbformat_minor": 4
}
