{
 "cells": [
  {
   "cell_type": "markdown",
   "metadata": {},
   "source": [
    "## Implementation of Logistic Regression"
   ]
  },
  {
   "cell_type": "code",
   "execution_count": null,
   "metadata": {},
   "outputs": [],
   "source": [
    "import numpy as np\n",
    "import pandas as pd\n",
    "import math\n",
    "import matplotlib.pyplot as plt"
   ]
  },
  {
   "cell_type": "code",
   "execution_count": null,
   "metadata": {},
   "outputs": [],
   "source": [
    "X_train = pd.read_csv('Logistic_X_Train.csv').values\n",
    "Y_train = pd.read_csv('Logistic_Y_Train.csv').values\n",
    "X_test = pd.read_csv('Logistic_X_Test.csv').values\n",
    "\n",
    "X_train = np.hstack((np.ones((X_train.shape[0], 1)), X_train))\n",
    "X_test = np.hstack((np.ones((X_test.shape[0], 1)), X_test))"
   ]
  },
  {
   "cell_type": "code",
   "execution_count": null,
   "metadata": {},
   "outputs": [],
   "source": [
    "def hypothesis(x, theta):\n",
    "    val = np.dot(x, theta)\n",
    "    val = 1/(1+np.exp(-1*val))\n",
    "    return val\n",
    "\n",
    "def gradient(X, Y, theta):\n",
    "    m = X.shape[0]\n",
    "    grad = np.zeros(theta.shape[0])\n",
    "    for i in range(m):\n",
    "        h = hypothesis(X[i], theta)\n",
    "        grad += (h - Y[i])*X[i]\n",
    "    return grad/m\n",
    "\n",
    "def loss(X, Y, theta):\n",
    "    e = 0.0\n",
    "    m = X.shape[0]\n",
    "    for i in range(m):\n",
    "        h = hypothesis(X[i], theta)\n",
    "        e += -((Y[i]*np.log2(h)) + ((1-Y[i])*np.log2(1-h)))\n",
    "    return e/m\n",
    "        \n",
    "def grad_desc(X, Y, lr=0.1, max_itr=200):\n",
    "    theta = np.zeros(X.shape[1])\n",
    "    error = []\n",
    "    for i in range(max_itr):\n",
    "        grad = gradient(X, Y, theta)\n",
    "        theta = theta - lr*grad\n",
    "        error.append(loss(X, Y, theta))\n",
    "    return theta, error\n",
    "\n",
    "def predict(X, theta):\n",
    "    val = hypothesis(X, theta)\n",
    "    val = [0 if x < 0.5 else 1 for x in val]\n",
    "    return np.array(val)"
   ]
  },
  {
   "cell_type": "code",
   "execution_count": null,
   "metadata": {},
   "outputs": [],
   "source": [
    "theta, error = grad_desc(X_train, Y_train)\n",
    "plt.plot(error)\n",
    "plt.show()"
   ]
  },
  {
   "cell_type": "code",
   "execution_count": null,
   "metadata": {},
   "outputs": [],
   "source": [
    "y_pred = predict(X_test, theta)\n",
    "pd.DataFrame(y_pred, columns=['label']).to_csv('pred.csv', index=False)"
   ]
  },
  {
   "cell_type": "code",
   "execution_count": null,
   "metadata": {},
   "outputs": [],
   "source": []
  },
  {
   "cell_type": "code",
   "execution_count": null,
   "metadata": {},
   "outputs": [],
   "source": []
  }
 ],
 "metadata": {
  "kernelspec": {
   "display_name": "Python 3",
   "language": "python",
   "name": "python3"
  },
  "language_info": {
   "codemirror_mode": {
    "name": "ipython",
    "version": 3
   },
   "file_extension": ".py",
   "mimetype": "text/x-python",
   "name": "python",
   "nbconvert_exporter": "python",
   "pygments_lexer": "ipython3",
   "version": "3.7.6"
  }
 },
 "nbformat": 4,
 "nbformat_minor": 4
}
